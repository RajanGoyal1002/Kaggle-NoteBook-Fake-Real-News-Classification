{
 "cells": [
  {
   "cell_type": "code",
   "execution_count": 1,
   "id": "407df181",
   "metadata": {
    "_cell_guid": "b1076dfc-b9ad-4769-8c92-a6c4dae69d19",
    "_uuid": "8f2839f25d086af736a60e9eeb907d3b93b6e0e5",
    "execution": {
     "iopub.execute_input": "2022-01-15T08:33:18.839526Z",
     "iopub.status.busy": "2022-01-15T08:33:18.838268Z",
     "iopub.status.idle": "2022-01-15T08:33:18.865757Z",
     "shell.execute_reply": "2022-01-15T08:33:18.866353Z",
     "shell.execute_reply.started": "2022-01-13T17:12:44.257764Z"
    },
    "papermill": {
     "duration": 0.059637,
     "end_time": "2022-01-15T08:33:18.866722",
     "exception": false,
     "start_time": "2022-01-15T08:33:18.807085",
     "status": "completed"
    },
    "tags": []
   },
   "outputs": [
    {
     "name": "stdout",
     "output_type": "stream",
     "text": [
      "/kaggle/input/fake-news/fake.csv\n"
     ]
    }
   ],
   "source": [
    "# This Python 3 environment comes with many helpful analytics libraries installed\n",
    "# It is defined by the kaggle/python Docker image: https://github.com/kaggle/docker-python\n",
    "# For example, here's several helpful packages to load\n",
    "\n",
    "import numpy as np # linear algebra\n",
    "import pandas as pd # data processing, CSV file I/O (e.g. pd.read_csv)\n",
    "\n",
    "# Input data files are available in the read-only \"../input/\" directory\n",
    "# For example, running this (by clicking run or pressing Shift+Enter) will list all files under the input directory\n",
    "\n",
    "import os\n",
    "for dirname, _, filenames in os.walk('/kaggle/input'):\n",
    "    for filename in filenames:\n",
    "        print(os.path.join(dirname, filename))\n",
    "\n",
    "# You can write up to 20GB to the current directory (/kaggle/working/) that gets preserved as output when you create a version using \"Save & Run All\" \n",
    "# You can also write temporary files to /kaggle/temp/, but they won't be saved outside of the current session"
   ]
  },
  {
   "cell_type": "code",
   "execution_count": 2,
   "id": "8a225bdb",
   "metadata": {
    "execution": {
     "iopub.execute_input": "2022-01-15T08:33:18.923476Z",
     "iopub.status.busy": "2022-01-15T08:33:18.922746Z",
     "iopub.status.idle": "2022-01-15T08:33:20.918499Z",
     "shell.execute_reply": "2022-01-15T08:33:20.917850Z",
     "shell.execute_reply.started": "2022-01-13T17:16:20.438801Z"
    },
    "papermill": {
     "duration": 2.024502,
     "end_time": "2022-01-15T08:33:20.918680",
     "exception": false,
     "start_time": "2022-01-15T08:33:18.894178",
     "status": "completed"
    },
    "tags": []
   },
   "outputs": [],
   "source": [
    "from nltk.tokenize import word_tokenize\n",
    "from nltk.corpus import stopwords\n",
    "from nltk.stem import WordNetLemmatizer\n",
    "from sklearn.feature_extraction.text import TfidfVectorizer,CountVectorizer\n",
    "from sklearn.linear_model import LogisticRegression\n",
    "from sklearn.tree import DecisionTreeClassifier\n",
    "from sklearn.ensemble import RandomForestClassifier, GradientBoostingClassifier\n",
    "from sklearn.neighbors import KNeighborsClassifier\n",
    "from xgboost import XGBClassifier\n",
    "from sklearn.metrics import roc_curve,auc\n",
    "from sklearn.metrics import classification_report, accuracy_score\n",
    "from sklearn.pipeline import Pipeline\n",
    "from sklearn.model_selection import cross_val_score, train_test_split\n",
    "from urllib.parse import urlparse\n",
    "import warnings\n",
    "warnings.filterwarnings(\"ignore\")"
   ]
  },
  {
   "cell_type": "code",
   "execution_count": 3,
   "id": "2526a751",
   "metadata": {
    "execution": {
     "iopub.execute_input": "2022-01-15T08:33:20.977508Z",
     "iopub.status.busy": "2022-01-15T08:33:20.976718Z",
     "iopub.status.idle": "2022-01-15T08:33:22.634862Z",
     "shell.execute_reply": "2022-01-15T08:33:22.634192Z",
     "shell.execute_reply.started": "2022-01-13T17:12:46.25855Z"
    },
    "papermill": {
     "duration": 1.689388,
     "end_time": "2022-01-15T08:33:22.635010",
     "exception": false,
     "start_time": "2022-01-15T08:33:20.945622",
     "status": "completed"
    },
    "tags": []
   },
   "outputs": [],
   "source": [
    "data=pd.read_csv(\"/kaggle/input/fake-news/fake.csv\")"
   ]
  },
  {
   "cell_type": "code",
   "execution_count": 4,
   "id": "1601dda0",
   "metadata": {
    "execution": {
     "iopub.execute_input": "2022-01-15T08:33:22.713192Z",
     "iopub.status.busy": "2022-01-15T08:33:22.712185Z",
     "iopub.status.idle": "2022-01-15T08:33:22.725850Z",
     "shell.execute_reply": "2022-01-15T08:33:22.725273Z",
     "shell.execute_reply.started": "2022-01-13T17:12:47.861347Z"
    },
    "papermill": {
     "duration": 0.065543,
     "end_time": "2022-01-15T08:33:22.726020",
     "exception": false,
     "start_time": "2022-01-15T08:33:22.660477",
     "status": "completed"
    },
    "tags": []
   },
   "outputs": [
    {
     "data": {
      "text/plain": [
       "uuid                     0\n",
       "ord_in_thread            0\n",
       "author                2424\n",
       "published                0\n",
       "title                  680\n",
       "text                    46\n",
       "language                 0\n",
       "crawled                  0\n",
       "site_url                 0\n",
       "country                176\n",
       "domain_rank           4223\n",
       "thread_title            12\n",
       "spam_score               0\n",
       "main_img_url          3643\n",
       "replies_count            0\n",
       "participants_count       0\n",
       "likes                    0\n",
       "comments                 0\n",
       "shares                   0\n",
       "type                     0\n",
       "dtype: int64"
      ]
     },
     "execution_count": 4,
     "metadata": {},
     "output_type": "execute_result"
    }
   ],
   "source": [
    "data.isnull().sum()"
   ]
  },
  {
   "cell_type": "code",
   "execution_count": 5,
   "id": "51ca7cd3",
   "metadata": {
    "execution": {
     "iopub.execute_input": "2022-01-15T08:33:22.795204Z",
     "iopub.status.busy": "2022-01-15T08:33:22.788697Z",
     "iopub.status.idle": "2022-01-15T08:33:22.799295Z",
     "shell.execute_reply": "2022-01-15T08:33:22.798755Z",
     "shell.execute_reply.started": "2022-01-13T17:12:47.898441Z"
    },
    "papermill": {
     "duration": 0.047295,
     "end_time": "2022-01-15T08:33:22.799486",
     "exception": false,
     "start_time": "2022-01-15T08:33:22.752191",
     "status": "completed"
    },
    "tags": []
   },
   "outputs": [
    {
     "data": {
      "text/plain": [
       "US    10367\n",
       "GB      831\n",
       "RU      400\n",
       "DE      224\n",
       "FR      207\n",
       "TV      201\n",
       "EU      112\n",
       "CA      103\n",
       "IS      100\n",
       "ES      100\n",
       "NL       55\n",
       "ME       34\n",
       "IN       23\n",
       "BG       19\n",
       "CO       17\n",
       "LI       10\n",
       "IR        7\n",
       "EE        4\n",
       "ZA        3\n",
       "SG        2\n",
       "IO        1\n",
       "SE        1\n",
       "AU        1\n",
       "CH        1\n",
       "Name: country, dtype: int64"
      ]
     },
     "execution_count": 5,
     "metadata": {},
     "output_type": "execute_result"
    }
   ],
   "source": [
    "data.country.value_counts()"
   ]
  },
  {
   "cell_type": "code",
   "execution_count": 6,
   "id": "11c39164",
   "metadata": {
    "execution": {
     "iopub.execute_input": "2022-01-15T08:33:22.860873Z",
     "iopub.status.busy": "2022-01-15T08:33:22.860168Z",
     "iopub.status.idle": "2022-01-15T08:33:22.863023Z",
     "shell.execute_reply": "2022-01-15T08:33:22.862388Z",
     "shell.execute_reply.started": "2022-01-13T17:12:47.915724Z"
    },
    "papermill": {
     "duration": 0.03731,
     "end_time": "2022-01-15T08:33:22.863176",
     "exception": false,
     "start_time": "2022-01-15T08:33:22.825866",
     "status": "completed"
    },
    "tags": []
   },
   "outputs": [],
   "source": [
    "data.country.fillna(\"US\",inplace=True)"
   ]
  },
  {
   "cell_type": "code",
   "execution_count": 7,
   "id": "b5ffdc06",
   "metadata": {
    "execution": {
     "iopub.execute_input": "2022-01-15T08:33:22.926215Z",
     "iopub.status.busy": "2022-01-15T08:33:22.925208Z",
     "iopub.status.idle": "2022-01-15T08:33:22.928278Z",
     "shell.execute_reply": "2022-01-15T08:33:22.928811Z",
     "shell.execute_reply.started": "2022-01-13T17:12:47.930687Z"
    },
    "papermill": {
     "duration": 0.039267,
     "end_time": "2022-01-15T08:33:22.929002",
     "exception": false,
     "start_time": "2022-01-15T08:33:22.889735",
     "status": "completed"
    },
    "tags": []
   },
   "outputs": [
    {
     "data": {
      "text/plain": [
       "bs            11492\n",
       "bias            443\n",
       "conspiracy      430\n",
       "hate            246\n",
       "satire          146\n",
       "state           121\n",
       "junksci         102\n",
       "fake             19\n",
       "Name: type, dtype: int64"
      ]
     },
     "execution_count": 7,
     "metadata": {},
     "output_type": "execute_result"
    }
   ],
   "source": [
    "data.type.value_counts()"
   ]
  },
  {
   "cell_type": "code",
   "execution_count": 8,
   "id": "f0107efa",
   "metadata": {
    "execution": {
     "iopub.execute_input": "2022-01-15T08:33:23.012695Z",
     "iopub.status.busy": "2022-01-15T08:33:23.011960Z",
     "iopub.status.idle": "2022-01-15T08:33:23.168618Z",
     "shell.execute_reply": "2022-01-15T08:33:23.167908Z",
     "shell.execute_reply.started": "2022-01-13T17:12:47.948406Z"
    },
    "papermill": {
     "duration": 0.211873,
     "end_time": "2022-01-15T08:33:23.168780",
     "exception": false,
     "start_time": "2022-01-15T08:33:22.956907",
     "status": "completed"
    },
    "tags": []
   },
   "outputs": [],
   "source": [
    "value_counts=data.language.value_counts()\n",
    "to_remove=value_counts[value_counts<500].index\n",
    "data.replace(to_remove,np.nan,inplace=True)"
   ]
  },
  {
   "cell_type": "code",
   "execution_count": 9,
   "id": "be04ab24",
   "metadata": {
    "execution": {
     "iopub.execute_input": "2022-01-15T08:33:23.250513Z",
     "iopub.status.busy": "2022-01-15T08:33:23.226423Z",
     "iopub.status.idle": "2022-01-15T08:33:23.365209Z",
     "shell.execute_reply": "2022-01-15T08:33:23.364505Z",
     "shell.execute_reply.started": "2022-01-13T17:12:48.120028Z"
    },
    "papermill": {
     "duration": 0.169205,
     "end_time": "2022-01-15T08:33:23.365371",
     "exception": false,
     "start_time": "2022-01-15T08:33:23.196166",
     "status": "completed"
    },
    "tags": []
   },
   "outputs": [],
   "source": [
    "value_counts=data.country.value_counts()\n",
    "to_remove=value_counts[value_counts<20].index\n",
    "data.replace(to_remove,np.nan,inplace=True)"
   ]
  },
  {
   "cell_type": "code",
   "execution_count": 10,
   "id": "47b9b4ba",
   "metadata": {
    "execution": {
     "iopub.execute_input": "2022-01-15T08:33:23.448596Z",
     "iopub.status.busy": "2022-01-15T08:33:23.447892Z",
     "iopub.status.idle": "2022-01-15T08:33:23.458190Z",
     "shell.execute_reply": "2022-01-15T08:33:23.457597Z",
     "shell.execute_reply.started": "2022-01-13T17:12:48.251167Z"
    },
    "papermill": {
     "duration": 0.065979,
     "end_time": "2022-01-15T08:33:23.458362",
     "exception": false,
     "start_time": "2022-01-15T08:33:23.392383",
     "status": "completed"
    },
    "tags": []
   },
   "outputs": [],
   "source": [
    "columns=['uuid', 'ord_in_thread', 'published','language', 'crawled', 'domain_rank', 'replies_count','participants_count', 'likes', 'comments', 'shares',\"main_img_url\"]\n",
    "data.drop(columns,axis=1,inplace=True)\n",
    "data.dropna(axis=0,inplace=True)"
   ]
  },
  {
   "cell_type": "code",
   "execution_count": 11,
   "id": "5b0b9e25",
   "metadata": {
    "execution": {
     "iopub.execute_input": "2022-01-15T08:33:23.519942Z",
     "iopub.status.busy": "2022-01-15T08:33:23.519141Z",
     "iopub.status.idle": "2022-01-15T08:35:15.792004Z",
     "shell.execute_reply": "2022-01-15T08:35:15.792531Z",
     "shell.execute_reply.started": "2022-01-13T17:12:48.284081Z"
    },
    "papermill": {
     "duration": 112.307675,
     "end_time": "2022-01-15T08:35:15.792742",
     "exception": false,
     "start_time": "2022-01-15T08:33:23.485067",
     "status": "completed"
    },
    "tags": []
   },
   "outputs": [],
   "source": [
    "stop_words=stopwords.words(\"english\")\n",
    "def stemmer(txt):\n",
    "    #txt=txt.lower()\n",
    "    words=word_tokenize(txt)\n",
    "    words=[w for w in words if w.isalpha()]\n",
    "    words=[w for w in words if not w in stop_words]\n",
    "    return( \" \".join(words ))\n",
    "data[\"title\"]=data[\"title\"].apply(stemmer)\n",
    "data[\"text\"]=data[\"text\"].apply(stemmer)\n",
    "data[\"thread_title\"]=data[\"thread_title\"].apply(stemmer)"
   ]
  },
  {
   "cell_type": "code",
   "execution_count": 12,
   "id": "34485842",
   "metadata": {
    "execution": {
     "iopub.execute_input": "2022-01-15T08:35:15.850647Z",
     "iopub.status.busy": "2022-01-15T08:35:15.849956Z",
     "iopub.status.idle": "2022-01-15T08:35:15.852851Z",
     "shell.execute_reply": "2022-01-15T08:35:15.852347Z",
     "shell.execute_reply.started": "2022-01-13T17:14:40.431023Z"
    },
    "papermill": {
     "duration": 0.03399,
     "end_time": "2022-01-15T08:35:15.852994",
     "exception": false,
     "start_time": "2022-01-15T08:35:15.819004",
     "status": "completed"
    },
    "tags": []
   },
   "outputs": [],
   "source": [
    "tfidf=TfidfVectorizer()"
   ]
  },
  {
   "cell_type": "code",
   "execution_count": 13,
   "id": "b626eaa3",
   "metadata": {
    "execution": {
     "iopub.execute_input": "2022-01-15T08:35:15.951067Z",
     "iopub.status.busy": "2022-01-15T08:35:15.925363Z",
     "iopub.status.idle": "2022-01-15T08:35:17.523597Z",
     "shell.execute_reply": "2022-01-15T08:35:17.522956Z",
     "shell.execute_reply.started": "2022-01-13T17:14:40.437007Z"
    },
    "papermill": {
     "duration": 1.644296,
     "end_time": "2022-01-15T08:35:17.523772",
     "exception": false,
     "start_time": "2022-01-15T08:35:15.879476",
     "status": "completed"
    },
    "tags": []
   },
   "outputs": [],
   "source": [
    "data[\"title\"]=tfidf.fit_transform(data[\"title\"]).toarray()"
   ]
  },
  {
   "cell_type": "code",
   "execution_count": 14,
   "id": "1d8c5a6f",
   "metadata": {
    "execution": {
     "iopub.execute_input": "2022-01-15T08:35:17.601807Z",
     "iopub.status.busy": "2022-01-15T08:35:17.600588Z",
     "iopub.status.idle": "2022-01-15T08:35:39.872846Z",
     "shell.execute_reply": "2022-01-15T08:35:39.873501Z",
     "shell.execute_reply.started": "2022-01-13T17:14:41.980674Z"
    },
    "papermill": {
     "duration": 22.322596,
     "end_time": "2022-01-15T08:35:39.873787",
     "exception": false,
     "start_time": "2022-01-15T08:35:17.551191",
     "status": "completed"
    },
    "tags": []
   },
   "outputs": [],
   "source": [
    "data[\"text\"]=tfidf.fit_transform(data[\"text\"]).toarray()"
   ]
  },
  {
   "cell_type": "code",
   "execution_count": 15,
   "id": "0412cdf5",
   "metadata": {
    "execution": {
     "iopub.execute_input": "2022-01-15T08:35:39.941468Z",
     "iopub.status.busy": "2022-01-15T08:35:39.940699Z",
     "iopub.status.idle": "2022-01-15T08:35:41.504366Z",
     "shell.execute_reply": "2022-01-15T08:35:41.504864Z",
     "shell.execute_reply.started": "2022-01-13T17:15:00.715802Z"
    },
    "papermill": {
     "duration": 1.602622,
     "end_time": "2022-01-15T08:35:41.505076",
     "exception": false,
     "start_time": "2022-01-15T08:35:39.902454",
     "status": "completed"
    },
    "tags": []
   },
   "outputs": [],
   "source": [
    "data[\"thread_title\"]=tfidf.fit_transform(data[\"thread_title\"]).toarray()"
   ]
  },
  {
   "cell_type": "code",
   "execution_count": 16,
   "id": "06822651",
   "metadata": {
    "execution": {
     "iopub.execute_input": "2022-01-15T08:35:41.562640Z",
     "iopub.status.busy": "2022-01-15T08:35:41.561960Z",
     "iopub.status.idle": "2022-01-15T08:35:41.941998Z",
     "shell.execute_reply": "2022-01-15T08:35:41.942506Z",
     "shell.execute_reply.started": "2022-01-13T17:15:01.961324Z"
    },
    "papermill": {
     "duration": 0.410089,
     "end_time": "2022-01-15T08:35:41.942698",
     "exception": false,
     "start_time": "2022-01-15T08:35:41.532609",
     "status": "completed"
    },
    "tags": []
   },
   "outputs": [],
   "source": [
    "data[\"author\"]=tfidf.fit_transform(data[\"author\"]).toarray()"
   ]
  },
  {
   "cell_type": "code",
   "execution_count": 17,
   "id": "0214e119",
   "metadata": {
    "execution": {
     "iopub.execute_input": "2022-01-15T08:35:42.021663Z",
     "iopub.status.busy": "2022-01-15T08:35:42.016630Z",
     "iopub.status.idle": "2022-01-15T08:35:42.099834Z",
     "shell.execute_reply": "2022-01-15T08:35:42.099220Z",
     "shell.execute_reply.started": "2022-01-13T17:15:02.263254Z"
    },
    "papermill": {
     "duration": 0.130483,
     "end_time": "2022-01-15T08:35:42.099978",
     "exception": false,
     "start_time": "2022-01-15T08:35:41.969495",
     "status": "completed"
    },
    "tags": []
   },
   "outputs": [],
   "source": [
    "data[\"site_url\"]=tfidf.fit_transform(data[\"site_url\"]).toarray()"
   ]
  },
  {
   "cell_type": "code",
   "execution_count": 18,
   "id": "4c207cc7",
   "metadata": {
    "execution": {
     "iopub.execute_input": "2022-01-15T08:35:42.160293Z",
     "iopub.status.busy": "2022-01-15T08:35:42.159265Z",
     "iopub.status.idle": "2022-01-15T08:35:42.179783Z",
     "shell.execute_reply": "2022-01-15T08:35:42.180245Z",
     "shell.execute_reply.started": "2022-01-13T17:15:02.360849Z"
    },
    "papermill": {
     "duration": 0.053965,
     "end_time": "2022-01-15T08:35:42.180446",
     "exception": false,
     "start_time": "2022-01-15T08:35:42.126481",
     "status": "completed"
    },
    "tags": []
   },
   "outputs": [
    {
     "data": {
      "text/html": [
       "<div>\n",
       "<style scoped>\n",
       "    .dataframe tbody tr th:only-of-type {\n",
       "        vertical-align: middle;\n",
       "    }\n",
       "\n",
       "    .dataframe tbody tr th {\n",
       "        vertical-align: top;\n",
       "    }\n",
       "\n",
       "    .dataframe thead th {\n",
       "        text-align: right;\n",
       "    }\n",
       "</style>\n",
       "<table border=\"1\" class=\"dataframe\">\n",
       "  <thead>\n",
       "    <tr style=\"text-align: right;\">\n",
       "      <th></th>\n",
       "      <th>author</th>\n",
       "      <th>title</th>\n",
       "      <th>text</th>\n",
       "      <th>site_url</th>\n",
       "      <th>country</th>\n",
       "      <th>thread_title</th>\n",
       "      <th>spam_score</th>\n",
       "      <th>type</th>\n",
       "    </tr>\n",
       "  </thead>\n",
       "  <tbody>\n",
       "    <tr>\n",
       "      <th>0</th>\n",
       "      <td>0.0</td>\n",
       "      <td>0.0</td>\n",
       "      <td>0.0</td>\n",
       "      <td>0.984487</td>\n",
       "      <td>US</td>\n",
       "      <td>0.0</td>\n",
       "      <td>0.000</td>\n",
       "      <td>bias</td>\n",
       "    </tr>\n",
       "    <tr>\n",
       "      <th>1</th>\n",
       "      <td>0.0</td>\n",
       "      <td>0.0</td>\n",
       "      <td>0.0</td>\n",
       "      <td>0.984487</td>\n",
       "      <td>US</td>\n",
       "      <td>0.0</td>\n",
       "      <td>0.000</td>\n",
       "      <td>bias</td>\n",
       "    </tr>\n",
       "    <tr>\n",
       "      <th>2</th>\n",
       "      <td>0.0</td>\n",
       "      <td>0.0</td>\n",
       "      <td>0.0</td>\n",
       "      <td>0.984487</td>\n",
       "      <td>US</td>\n",
       "      <td>0.0</td>\n",
       "      <td>0.000</td>\n",
       "      <td>bias</td>\n",
       "    </tr>\n",
       "    <tr>\n",
       "      <th>3</th>\n",
       "      <td>0.0</td>\n",
       "      <td>0.0</td>\n",
       "      <td>0.0</td>\n",
       "      <td>0.984487</td>\n",
       "      <td>US</td>\n",
       "      <td>0.0</td>\n",
       "      <td>0.068</td>\n",
       "      <td>bias</td>\n",
       "    </tr>\n",
       "    <tr>\n",
       "      <th>4</th>\n",
       "      <td>0.0</td>\n",
       "      <td>0.0</td>\n",
       "      <td>0.0</td>\n",
       "      <td>0.984487</td>\n",
       "      <td>US</td>\n",
       "      <td>0.0</td>\n",
       "      <td>0.865</td>\n",
       "      <td>bias</td>\n",
       "    </tr>\n",
       "  </tbody>\n",
       "</table>\n",
       "</div>"
      ],
      "text/plain": [
       "   author  title  text  site_url country  thread_title  spam_score  type\n",
       "0     0.0    0.0   0.0  0.984487      US           0.0       0.000  bias\n",
       "1     0.0    0.0   0.0  0.984487      US           0.0       0.000  bias\n",
       "2     0.0    0.0   0.0  0.984487      US           0.0       0.000  bias\n",
       "3     0.0    0.0   0.0  0.984487      US           0.0       0.068  bias\n",
       "4     0.0    0.0   0.0  0.984487      US           0.0       0.865  bias"
      ]
     },
     "execution_count": 18,
     "metadata": {},
     "output_type": "execute_result"
    }
   ],
   "source": [
    "data.head(5)"
   ]
  },
  {
   "cell_type": "code",
   "execution_count": 19,
   "id": "eb6299f1",
   "metadata": {
    "execution": {
     "iopub.execute_input": "2022-01-15T08:35:42.240551Z",
     "iopub.status.busy": "2022-01-15T08:35:42.239903Z",
     "iopub.status.idle": "2022-01-15T08:35:42.243037Z",
     "shell.execute_reply": "2022-01-15T08:35:42.242559Z",
     "shell.execute_reply.started": "2022-01-13T17:15:02.385421Z"
    },
    "papermill": {
     "duration": 0.035929,
     "end_time": "2022-01-15T08:35:42.243175",
     "exception": false,
     "start_time": "2022-01-15T08:35:42.207246",
     "status": "completed"
    },
    "tags": []
   },
   "outputs": [],
   "source": [
    "data[\"spam_score\"]=data[\"spam_score\"]-0.5"
   ]
  },
  {
   "cell_type": "code",
   "execution_count": 20,
   "id": "903971db",
   "metadata": {
    "execution": {
     "iopub.execute_input": "2022-01-15T08:35:42.310499Z",
     "iopub.status.busy": "2022-01-15T08:35:42.309665Z",
     "iopub.status.idle": "2022-01-15T08:35:42.312681Z",
     "shell.execute_reply": "2022-01-15T08:35:42.312043Z",
     "shell.execute_reply.started": "2022-01-13T17:15:02.391186Z"
    },
    "papermill": {
     "duration": 0.042865,
     "end_time": "2022-01-15T08:35:42.312834",
     "exception": false,
     "start_time": "2022-01-15T08:35:42.269969",
     "status": "completed"
    },
    "tags": []
   },
   "outputs": [],
   "source": [
    "news_type=[]\n",
    "for i in data[\"spam_score\"]:\n",
    "    if(i<0):\n",
    "        news_type.append(\"0\")\n",
    "    else:\n",
    "        news_type.append(\"1\")\n",
    "data[\"news_type\"]=news_type"
   ]
  },
  {
   "cell_type": "code",
   "execution_count": 21,
   "id": "55420943",
   "metadata": {
    "execution": {
     "iopub.execute_input": "2022-01-15T08:35:42.375213Z",
     "iopub.status.busy": "2022-01-15T08:35:42.374167Z",
     "iopub.status.idle": "2022-01-15T08:35:42.390524Z",
     "shell.execute_reply": "2022-01-15T08:35:42.391119Z",
     "shell.execute_reply.started": "2022-01-13T17:15:02.409762Z"
    },
    "papermill": {
     "duration": 0.051524,
     "end_time": "2022-01-15T08:35:42.391336",
     "exception": false,
     "start_time": "2022-01-15T08:35:42.339812",
     "status": "completed"
    },
    "tags": []
   },
   "outputs": [
    {
     "data": {
      "text/html": [
       "<div>\n",
       "<style scoped>\n",
       "    .dataframe tbody tr th:only-of-type {\n",
       "        vertical-align: middle;\n",
       "    }\n",
       "\n",
       "    .dataframe tbody tr th {\n",
       "        vertical-align: top;\n",
       "    }\n",
       "\n",
       "    .dataframe thead th {\n",
       "        text-align: right;\n",
       "    }\n",
       "</style>\n",
       "<table border=\"1\" class=\"dataframe\">\n",
       "  <thead>\n",
       "    <tr style=\"text-align: right;\">\n",
       "      <th></th>\n",
       "      <th>author</th>\n",
       "      <th>title</th>\n",
       "      <th>text</th>\n",
       "      <th>site_url</th>\n",
       "      <th>country</th>\n",
       "      <th>thread_title</th>\n",
       "      <th>type</th>\n",
       "      <th>news_type</th>\n",
       "    </tr>\n",
       "  </thead>\n",
       "  <tbody>\n",
       "    <tr>\n",
       "      <th>0</th>\n",
       "      <td>0.0</td>\n",
       "      <td>0.0</td>\n",
       "      <td>0.0</td>\n",
       "      <td>0.984487</td>\n",
       "      <td>US</td>\n",
       "      <td>0.0</td>\n",
       "      <td>bias</td>\n",
       "      <td>0</td>\n",
       "    </tr>\n",
       "    <tr>\n",
       "      <th>1</th>\n",
       "      <td>0.0</td>\n",
       "      <td>0.0</td>\n",
       "      <td>0.0</td>\n",
       "      <td>0.984487</td>\n",
       "      <td>US</td>\n",
       "      <td>0.0</td>\n",
       "      <td>bias</td>\n",
       "      <td>0</td>\n",
       "    </tr>\n",
       "    <tr>\n",
       "      <th>2</th>\n",
       "      <td>0.0</td>\n",
       "      <td>0.0</td>\n",
       "      <td>0.0</td>\n",
       "      <td>0.984487</td>\n",
       "      <td>US</td>\n",
       "      <td>0.0</td>\n",
       "      <td>bias</td>\n",
       "      <td>0</td>\n",
       "    </tr>\n",
       "    <tr>\n",
       "      <th>3</th>\n",
       "      <td>0.0</td>\n",
       "      <td>0.0</td>\n",
       "      <td>0.0</td>\n",
       "      <td>0.984487</td>\n",
       "      <td>US</td>\n",
       "      <td>0.0</td>\n",
       "      <td>bias</td>\n",
       "      <td>0</td>\n",
       "    </tr>\n",
       "    <tr>\n",
       "      <th>4</th>\n",
       "      <td>0.0</td>\n",
       "      <td>0.0</td>\n",
       "      <td>0.0</td>\n",
       "      <td>0.984487</td>\n",
       "      <td>US</td>\n",
       "      <td>0.0</td>\n",
       "      <td>bias</td>\n",
       "      <td>1</td>\n",
       "    </tr>\n",
       "  </tbody>\n",
       "</table>\n",
       "</div>"
      ],
      "text/plain": [
       "   author  title  text  site_url country  thread_title  type news_type\n",
       "0     0.0    0.0   0.0  0.984487      US           0.0  bias         0\n",
       "1     0.0    0.0   0.0  0.984487      US           0.0  bias         0\n",
       "2     0.0    0.0   0.0  0.984487      US           0.0  bias         0\n",
       "3     0.0    0.0   0.0  0.984487      US           0.0  bias         0\n",
       "4     0.0    0.0   0.0  0.984487      US           0.0  bias         1"
      ]
     },
     "execution_count": 21,
     "metadata": {},
     "output_type": "execute_result"
    }
   ],
   "source": [
    "data.drop(\"spam_score\",axis=1,inplace=True)\n",
    "data.head()"
   ]
  },
  {
   "cell_type": "code",
   "execution_count": 22,
   "id": "dd03c0e7",
   "metadata": {
    "execution": {
     "iopub.execute_input": "2022-01-15T08:35:42.449470Z",
     "iopub.status.busy": "2022-01-15T08:35:42.448491Z",
     "iopub.status.idle": "2022-01-15T08:35:42.465138Z",
     "shell.execute_reply": "2022-01-15T08:35:42.465683Z",
     "shell.execute_reply.started": "2022-01-13T17:15:02.439296Z"
    },
    "papermill": {
     "duration": 0.047363,
     "end_time": "2022-01-15T08:35:42.465867",
     "exception": false,
     "start_time": "2022-01-15T08:35:42.418504",
     "status": "completed"
    },
    "tags": []
   },
   "outputs": [],
   "source": [
    "data.type.value_counts()\n",
    "value_counts=data.type.value_counts()\n",
    "to_remove=value_counts[value_counts<20].index\n",
    "data.replace(to_remove,np.nan,inplace=True)"
   ]
  },
  {
   "cell_type": "code",
   "execution_count": 23,
   "id": "9d9c1edd",
   "metadata": {
    "execution": {
     "iopub.execute_input": "2022-01-15T08:35:42.526791Z",
     "iopub.status.busy": "2022-01-15T08:35:42.525909Z",
     "iopub.status.idle": "2022-01-15T08:35:42.536325Z",
     "shell.execute_reply": "2022-01-15T08:35:42.536938Z",
     "shell.execute_reply.started": "2022-01-13T17:15:02.458765Z"
    },
    "papermill": {
     "duration": 0.0434,
     "end_time": "2022-01-15T08:35:42.537121",
     "exception": false,
     "start_time": "2022-01-15T08:35:42.493721",
     "status": "completed"
    },
    "tags": []
   },
   "outputs": [
    {
     "data": {
      "text/plain": [
       "author           0\n",
       "title            0\n",
       "text             0\n",
       "site_url         0\n",
       "country          0\n",
       "thread_title     0\n",
       "type            19\n",
       "news_type        0\n",
       "dtype: int64"
      ]
     },
     "execution_count": 23,
     "metadata": {},
     "output_type": "execute_result"
    }
   ],
   "source": [
    "data.isnull().sum()"
   ]
  },
  {
   "cell_type": "code",
   "execution_count": 24,
   "id": "9d7ddcfe",
   "metadata": {
    "execution": {
     "iopub.execute_input": "2022-01-15T08:35:42.596801Z",
     "iopub.status.busy": "2022-01-15T08:35:42.595857Z",
     "iopub.status.idle": "2022-01-15T08:35:42.604415Z",
     "shell.execute_reply": "2022-01-15T08:35:42.605009Z",
     "shell.execute_reply.started": "2022-01-13T17:15:02.474125Z"
    },
    "papermill": {
     "duration": 0.039915,
     "end_time": "2022-01-15T08:35:42.605180",
     "exception": false,
     "start_time": "2022-01-15T08:35:42.565265",
     "status": "completed"
    },
    "tags": []
   },
   "outputs": [
    {
     "data": {
      "text/plain": [
       "US    8612\n",
       "GB     546\n",
       "RU     124\n",
       "EU     111\n",
       "TV     101\n",
       "ES     100\n",
       "IS      99\n",
       "DE      62\n",
       "FR      36\n",
       "NL      34\n",
       "ME      34\n",
       "IN      23\n",
       "CA       3\n",
       "Name: country, dtype: int64"
      ]
     },
     "execution_count": 24,
     "metadata": {},
     "output_type": "execute_result"
    }
   ],
   "source": [
    "data.country.value_counts()"
   ]
  },
  {
   "cell_type": "code",
   "execution_count": 25,
   "id": "b9466d2c",
   "metadata": {
    "execution": {
     "iopub.execute_input": "2022-01-15T08:35:42.665516Z",
     "iopub.status.busy": "2022-01-15T08:35:42.664586Z",
     "iopub.status.idle": "2022-01-15T08:35:42.679624Z",
     "shell.execute_reply": "2022-01-15T08:35:42.680173Z",
     "shell.execute_reply.started": "2022-01-13T17:15:02.484357Z"
    },
    "papermill": {
     "duration": 0.04728,
     "end_time": "2022-01-15T08:35:42.680360",
     "exception": false,
     "start_time": "2022-01-15T08:35:42.633080",
     "status": "completed"
    },
    "tags": []
   },
   "outputs": [
    {
     "data": {
      "text/html": [
       "<div>\n",
       "<style scoped>\n",
       "    .dataframe tbody tr th:only-of-type {\n",
       "        vertical-align: middle;\n",
       "    }\n",
       "\n",
       "    .dataframe tbody tr th {\n",
       "        vertical-align: top;\n",
       "    }\n",
       "\n",
       "    .dataframe thead th {\n",
       "        text-align: right;\n",
       "    }\n",
       "</style>\n",
       "<table border=\"1\" class=\"dataframe\">\n",
       "  <thead>\n",
       "    <tr style=\"text-align: right;\">\n",
       "      <th></th>\n",
       "      <th>author</th>\n",
       "      <th>title</th>\n",
       "      <th>text</th>\n",
       "      <th>site_url</th>\n",
       "      <th>country</th>\n",
       "      <th>thread_title</th>\n",
       "      <th>type</th>\n",
       "      <th>news_type</th>\n",
       "    </tr>\n",
       "  </thead>\n",
       "  <tbody>\n",
       "    <tr>\n",
       "      <th>0</th>\n",
       "      <td>0.0</td>\n",
       "      <td>0.0</td>\n",
       "      <td>0.0</td>\n",
       "      <td>0.984487</td>\n",
       "      <td>US</td>\n",
       "      <td>0.0</td>\n",
       "      <td>bias</td>\n",
       "      <td>0</td>\n",
       "    </tr>\n",
       "    <tr>\n",
       "      <th>1</th>\n",
       "      <td>0.0</td>\n",
       "      <td>0.0</td>\n",
       "      <td>0.0</td>\n",
       "      <td>0.984487</td>\n",
       "      <td>US</td>\n",
       "      <td>0.0</td>\n",
       "      <td>bias</td>\n",
       "      <td>0</td>\n",
       "    </tr>\n",
       "    <tr>\n",
       "      <th>2</th>\n",
       "      <td>0.0</td>\n",
       "      <td>0.0</td>\n",
       "      <td>0.0</td>\n",
       "      <td>0.984487</td>\n",
       "      <td>US</td>\n",
       "      <td>0.0</td>\n",
       "      <td>bias</td>\n",
       "      <td>0</td>\n",
       "    </tr>\n",
       "    <tr>\n",
       "      <th>3</th>\n",
       "      <td>0.0</td>\n",
       "      <td>0.0</td>\n",
       "      <td>0.0</td>\n",
       "      <td>0.984487</td>\n",
       "      <td>US</td>\n",
       "      <td>0.0</td>\n",
       "      <td>bias</td>\n",
       "      <td>0</td>\n",
       "    </tr>\n",
       "    <tr>\n",
       "      <th>4</th>\n",
       "      <td>0.0</td>\n",
       "      <td>0.0</td>\n",
       "      <td>0.0</td>\n",
       "      <td>0.984487</td>\n",
       "      <td>US</td>\n",
       "      <td>0.0</td>\n",
       "      <td>bias</td>\n",
       "      <td>1</td>\n",
       "    </tr>\n",
       "  </tbody>\n",
       "</table>\n",
       "</div>"
      ],
      "text/plain": [
       "   author  title  text  site_url country  thread_title  type news_type\n",
       "0     0.0    0.0   0.0  0.984487      US           0.0  bias         0\n",
       "1     0.0    0.0   0.0  0.984487      US           0.0  bias         0\n",
       "2     0.0    0.0   0.0  0.984487      US           0.0  bias         0\n",
       "3     0.0    0.0   0.0  0.984487      US           0.0  bias         0\n",
       "4     0.0    0.0   0.0  0.984487      US           0.0  bias         1"
      ]
     },
     "execution_count": 25,
     "metadata": {},
     "output_type": "execute_result"
    }
   ],
   "source": [
    "data.head(5)"
   ]
  },
  {
   "cell_type": "code",
   "execution_count": 26,
   "id": "845e71f0",
   "metadata": {
    "execution": {
     "iopub.execute_input": "2022-01-15T08:35:42.746461Z",
     "iopub.status.busy": "2022-01-15T08:35:42.745737Z",
     "iopub.status.idle": "2022-01-15T08:35:42.754733Z",
     "shell.execute_reply": "2022-01-15T08:35:42.754148Z",
     "shell.execute_reply.started": "2022-01-13T17:15:02.505027Z"
    },
    "papermill": {
     "duration": 0.046019,
     "end_time": "2022-01-15T08:35:42.754884",
     "exception": false,
     "start_time": "2022-01-15T08:35:42.708865",
     "status": "completed"
    },
    "tags": []
   },
   "outputs": [],
   "source": [
    "data=pd.get_dummies(data=data,columns=[\"country\",\"type\"])"
   ]
  },
  {
   "cell_type": "code",
   "execution_count": 27,
   "id": "1540e617",
   "metadata": {
    "execution": {
     "iopub.execute_input": "2022-01-15T08:35:42.821162Z",
     "iopub.status.busy": "2022-01-15T08:35:42.820341Z",
     "iopub.status.idle": "2022-01-15T08:35:42.827193Z",
     "shell.execute_reply": "2022-01-15T08:35:42.826484Z",
     "shell.execute_reply.started": "2022-01-13T17:15:02.51969Z"
    },
    "papermill": {
     "duration": 0.042484,
     "end_time": "2022-01-15T08:35:42.827362",
     "exception": false,
     "start_time": "2022-01-15T08:35:42.784878",
     "status": "completed"
    },
    "tags": []
   },
   "outputs": [],
   "source": [
    "y=data[\"news_type\"].values\n",
    "x=data.drop(\"news_type\",axis=1)\n",
    "x=x.values"
   ]
  },
  {
   "cell_type": "code",
   "execution_count": 28,
   "id": "65f81530",
   "metadata": {
    "execution": {
     "iopub.execute_input": "2022-01-15T08:35:42.894364Z",
     "iopub.status.busy": "2022-01-15T08:35:42.891821Z",
     "iopub.status.idle": "2022-01-15T08:35:42.899821Z",
     "shell.execute_reply": "2022-01-15T08:35:42.900284Z",
     "shell.execute_reply.started": "2022-01-13T17:15:02.528684Z"
    },
    "papermill": {
     "duration": 0.043886,
     "end_time": "2022-01-15T08:35:42.900491",
     "exception": false,
     "start_time": "2022-01-15T08:35:42.856605",
     "status": "completed"
    },
    "tags": []
   },
   "outputs": [],
   "source": [
    "x_train,x_test,y_train,y_test=train_test_split(x,y,test_size=0.2,random_state=0)"
   ]
  },
  {
   "cell_type": "code",
   "execution_count": 29,
   "id": "6abbeb38",
   "metadata": {
    "execution": {
     "iopub.execute_input": "2022-01-15T08:35:42.969702Z",
     "iopub.status.busy": "2022-01-15T08:35:42.964421Z",
     "iopub.status.idle": "2022-01-15T08:35:43.047462Z",
     "shell.execute_reply": "2022-01-15T08:35:43.048362Z",
     "shell.execute_reply.started": "2022-01-13T17:15:02.544708Z"
    },
    "papermill": {
     "duration": 0.119218,
     "end_time": "2022-01-15T08:35:43.048647",
     "exception": false,
     "start_time": "2022-01-15T08:35:42.929429",
     "status": "completed"
    },
    "tags": []
   },
   "outputs": [],
   "source": [
    "LR=LogisticRegression()\n",
    "model_LR=LR.fit(x_train,y_train)\n",
    "predict=model_LR.predict(x_test)"
   ]
  },
  {
   "cell_type": "code",
   "execution_count": null,
   "id": "a071b492",
   "metadata": {
    "papermill": {
     "duration": 0.051913,
     "end_time": "2022-01-15T08:35:43.154470",
     "exception": false,
     "start_time": "2022-01-15T08:35:43.102557",
     "status": "completed"
    },
    "tags": []
   },
   "outputs": [],
   "source": []
  },
  {
   "cell_type": "code",
   "execution_count": 30,
   "id": "f6b75a99",
   "metadata": {
    "execution": {
     "iopub.execute_input": "2022-01-15T08:35:43.244840Z",
     "iopub.status.busy": "2022-01-15T08:35:43.233229Z",
     "iopub.status.idle": "2022-01-15T08:36:03.514007Z",
     "shell.execute_reply": "2022-01-15T08:36:03.513243Z",
     "shell.execute_reply.started": "2022-01-13T17:16:33.061372Z"
    },
    "papermill": {
     "duration": 20.327137,
     "end_time": "2022-01-15T08:36:03.514187",
     "exception": false,
     "start_time": "2022-01-15T08:35:43.187050",
     "status": "completed"
    },
    "tags": []
   },
   "outputs": [
    {
     "name": "stdout",
     "output_type": "stream",
     "text": [
      "[08:35:44] WARNING: ../src/learner.cc:1115: Starting in XGBoost 1.3.0, the default evaluation metric used with the objective 'binary:logistic' was changed from 'error' to 'logloss'. Explicitly set eval_metric if you'd like to restore the old behavior.\n",
      "LogisticRegression:\n",
      "********************\n",
      "R-squared\n",
      "0.9843203609701071\n",
      "Error\n",
      "0.12521836538580447\n",
      "classification Report\n",
      "              precision    recall  f1-score   support\n",
      "\n",
      "           0       0.98      1.00      0.99      1946\n",
      "           1       0.00      0.00      0.00        31\n",
      "\n",
      "    accuracy                           0.98      1977\n",
      "   macro avg       0.49      0.50      0.50      1977\n",
      "weighted avg       0.97      0.98      0.98      1977\n",
      "\n",
      "accuracy\n",
      "0.9843196762771876\n",
      "********************\n",
      "KNeighborsClassifier:\n",
      "********************\n",
      "R-squared\n",
      "0.9843203609701071\n",
      "Error\n",
      "0.12521836538580447\n",
      "classification Report\n",
      "              precision    recall  f1-score   support\n",
      "\n",
      "           0       0.98      1.00      0.99      1946\n",
      "           1       0.00      0.00      0.00        31\n",
      "\n",
      "    accuracy                           0.98      1977\n",
      "   macro avg       0.49      0.50      0.50      1977\n",
      "weighted avg       0.97      0.98      0.98      1977\n",
      "\n",
      "accuracy\n",
      "0.9843196762771876\n",
      "********************\n",
      "DecisionTreeClassifier:\n",
      "********************\n",
      "R-squared\n",
      "0.9843203609701071\n",
      "Error\n",
      "0.12521836538580447\n",
      "classification Report\n",
      "              precision    recall  f1-score   support\n",
      "\n",
      "           0       0.98      1.00      0.99      1946\n",
      "           1       0.00      0.00      0.00        31\n",
      "\n",
      "    accuracy                           0.98      1977\n",
      "   macro avg       0.49      0.50      0.50      1977\n",
      "weighted avg       0.97      0.98      0.98      1977\n",
      "\n",
      "accuracy\n",
      "0.9843196762771876\n",
      "********************\n",
      "RandomForestClassifier:\n",
      "********************\n",
      "R-squared\n",
      "0.9843203609701071\n",
      "Error\n",
      "0.12521836538580447\n",
      "classification Report\n",
      "              precision    recall  f1-score   support\n",
      "\n",
      "           0       0.98      1.00      0.99      1946\n",
      "           1       0.00      0.00      0.00        31\n",
      "\n",
      "    accuracy                           0.98      1977\n",
      "   macro avg       0.49      0.50      0.50      1977\n",
      "weighted avg       0.97      0.98      0.98      1977\n",
      "\n",
      "accuracy\n",
      "0.9843196762771876\n",
      "********************\n",
      "GradientBoostingClassifier:\n",
      "********************\n",
      "R-squared\n",
      "0.9843203609701071\n",
      "Error\n",
      "0.12521836538580447\n",
      "classification Report\n",
      "              precision    recall  f1-score   support\n",
      "\n",
      "           0       0.98      1.00      0.99      1946\n",
      "           1       0.00      0.00      0.00        31\n",
      "\n",
      "    accuracy                           0.98      1977\n",
      "   macro avg       0.49      0.50      0.50      1977\n",
      "weighted avg       0.97      0.98      0.98      1977\n",
      "\n",
      "accuracy\n",
      "0.9843196762771876\n",
      "********************\n",
      "[08:35:53] WARNING: ../src/learner.cc:1115: Starting in XGBoost 1.3.0, the default evaluation metric used with the objective 'binary:logistic' was changed from 'error' to 'logloss'. Explicitly set eval_metric if you'd like to restore the old behavior.\n",
      "[08:35:54] WARNING: ../src/learner.cc:1115: Starting in XGBoost 1.3.0, the default evaluation metric used with the objective 'binary:logistic' was changed from 'error' to 'logloss'. Explicitly set eval_metric if you'd like to restore the old behavior.\n",
      "[08:35:55] WARNING: ../src/learner.cc:1115: Starting in XGBoost 1.3.0, the default evaluation metric used with the objective 'binary:logistic' was changed from 'error' to 'logloss'. Explicitly set eval_metric if you'd like to restore the old behavior.\n",
      "[08:35:55] WARNING: ../src/learner.cc:1115: Starting in XGBoost 1.3.0, the default evaluation metric used with the objective 'binary:logistic' was changed from 'error' to 'logloss'. Explicitly set eval_metric if you'd like to restore the old behavior.\n",
      "[08:35:56] WARNING: ../src/learner.cc:1115: Starting in XGBoost 1.3.0, the default evaluation metric used with the objective 'binary:logistic' was changed from 'error' to 'logloss'. Explicitly set eval_metric if you'd like to restore the old behavior.\n",
      "[08:35:56] WARNING: ../src/learner.cc:1115: Starting in XGBoost 1.3.0, the default evaluation metric used with the objective 'binary:logistic' was changed from 'error' to 'logloss'. Explicitly set eval_metric if you'd like to restore the old behavior.\n",
      "[08:35:57] WARNING: ../src/learner.cc:1115: Starting in XGBoost 1.3.0, the default evaluation metric used with the objective 'binary:logistic' was changed from 'error' to 'logloss'. Explicitly set eval_metric if you'd like to restore the old behavior.\n",
      "[08:35:57] WARNING: ../src/learner.cc:1115: Starting in XGBoost 1.3.0, the default evaluation metric used with the objective 'binary:logistic' was changed from 'error' to 'logloss'. Explicitly set eval_metric if you'd like to restore the old behavior.\n",
      "[08:35:58] WARNING: ../src/learner.cc:1115: Starting in XGBoost 1.3.0, the default evaluation metric used with the objective 'binary:logistic' was changed from 'error' to 'logloss'. Explicitly set eval_metric if you'd like to restore the old behavior.\n",
      "[08:35:58] WARNING: ../src/learner.cc:1115: Starting in XGBoost 1.3.0, the default evaluation metric used with the objective 'binary:logistic' was changed from 'error' to 'logloss'. Explicitly set eval_metric if you'd like to restore the old behavior.\n",
      "[08:35:58] WARNING: ../src/learner.cc:1115: Starting in XGBoost 1.3.0, the default evaluation metric used with the objective 'binary:logistic' was changed from 'error' to 'logloss'. Explicitly set eval_metric if you'd like to restore the old behavior.\n",
      "[08:35:59] WARNING: ../src/learner.cc:1115: Starting in XGBoost 1.3.0, the default evaluation metric used with the objective 'binary:logistic' was changed from 'error' to 'logloss'. Explicitly set eval_metric if you'd like to restore the old behavior.\n",
      "[08:35:59] WARNING: ../src/learner.cc:1115: Starting in XGBoost 1.3.0, the default evaluation metric used with the objective 'binary:logistic' was changed from 'error' to 'logloss'. Explicitly set eval_metric if you'd like to restore the old behavior.\n",
      "[08:36:00] WARNING: ../src/learner.cc:1115: Starting in XGBoost 1.3.0, the default evaluation metric used with the objective 'binary:logistic' was changed from 'error' to 'logloss'. Explicitly set eval_metric if you'd like to restore the old behavior.\n",
      "[08:36:00] WARNING: ../src/learner.cc:1115: Starting in XGBoost 1.3.0, the default evaluation metric used with the objective 'binary:logistic' was changed from 'error' to 'logloss'. Explicitly set eval_metric if you'd like to restore the old behavior.\n",
      "[08:36:01] WARNING: ../src/learner.cc:1115: Starting in XGBoost 1.3.0, the default evaluation metric used with the objective 'binary:logistic' was changed from 'error' to 'logloss'. Explicitly set eval_metric if you'd like to restore the old behavior.\n",
      "[08:36:01] WARNING: ../src/learner.cc:1115: Starting in XGBoost 1.3.0, the default evaluation metric used with the objective 'binary:logistic' was changed from 'error' to 'logloss'. Explicitly set eval_metric if you'd like to restore the old behavior.\n",
      "[08:36:02] WARNING: ../src/learner.cc:1115: Starting in XGBoost 1.3.0, the default evaluation metric used with the objective 'binary:logistic' was changed from 'error' to 'logloss'. Explicitly set eval_metric if you'd like to restore the old behavior.\n",
      "[08:36:02] WARNING: ../src/learner.cc:1115: Starting in XGBoost 1.3.0, the default evaluation metric used with the objective 'binary:logistic' was changed from 'error' to 'logloss'. Explicitly set eval_metric if you'd like to restore the old behavior.\n",
      "[08:36:02] WARNING: ../src/learner.cc:1115: Starting in XGBoost 1.3.0, the default evaluation metric used with the objective 'binary:logistic' was changed from 'error' to 'logloss'. Explicitly set eval_metric if you'd like to restore the old behavior.\n",
      "XGBClassifier:\n",
      "********************\n",
      "R-squared\n",
      "0.9843203609701071\n",
      "Error\n",
      "0.12521836538580447\n",
      "classification Report\n",
      "              precision    recall  f1-score   support\n",
      "\n",
      "           0       0.98      1.00      0.99      1946\n",
      "           1       0.00      0.00      0.00        31\n",
      "\n",
      "    accuracy                           0.98      1977\n",
      "   macro avg       0.49      0.50      0.50      1977\n",
      "weighted avg       0.97      0.98      0.98      1977\n",
      "\n",
      "accuracy\n",
      "0.9843196762771876\n",
      "********************\n"
     ]
    }
   ],
   "source": [
    "LR=LogisticRegression()\n",
    "model_LR=LR.fit(x_train,y_train)\n",
    "KNN=KNeighborsClassifier()\n",
    "model_KNN=KNN.fit(x_train,y_train)\n",
    "DTC=DecisionTreeClassifier(random_state=0)\n",
    "model_DTC=DTC.fit(x_train,y_train)\n",
    "RFC=RandomForestClassifier(random_state=0)\n",
    "model_RFC=RFC.fit(x_train,y_train)\n",
    "GBC=GradientBoostingClassifier(random_state=0)\n",
    "model_GBC=GBC.fit(x_train,y_train)\n",
    "XGB=XGBClassifier()\n",
    "model_XGB=XGB.fit(x_train,y_train)\n",
    "\n",
    "\n",
    "models=[model_LR,model_KNN,model_DTC,model_RFC,model_GBC,model_XGB]\n",
    "for model in models:\n",
    "    name=model.__class__.__name__\n",
    "    R2=cross_val_score(model,x_test,y_test,cv=10,verbose=False).mean()\n",
    "    error=-cross_val_score(model,x_test,y_test,cv=10,scoring=\"neg_mean_squared_error\",verbose=False).mean()\n",
    "    predict=model_LR.predict(x_test)\n",
    "    print(name + \":\")\n",
    "    print(\"*\"*20)\n",
    "    print(\"R-squared\")\n",
    "    print(R2)\n",
    "    print(\"Error\")\n",
    "    print(np.sqrt(error))\n",
    "    print(\"classification Report\")\n",
    "    print(classification_report(y_test,predict))\n",
    "    print(\"accuracy\")\n",
    "    print(accuracy_score(y_test,predict))\n",
    "    print(\"*\"*20)\n",
    "\n"
   ]
  }
 ],
 "metadata": {
  "kernelspec": {
   "display_name": "Python 3",
   "language": "python",
   "name": "python3"
  },
  "language_info": {
   "codemirror_mode": {
    "name": "ipython",
    "version": 3
   },
   "file_extension": ".py",
   "mimetype": "text/x-python",
   "name": "python",
   "nbconvert_exporter": "python",
   "pygments_lexer": "ipython3",
   "version": "3.7.12"
  },
  "papermill": {
   "default_parameters": {},
   "duration": 176.659478,
   "end_time": "2022-01-15T08:36:04.665199",
   "environment_variables": {},
   "exception": null,
   "input_path": "__notebook__.ipynb",
   "output_path": "__notebook__.ipynb",
   "parameters": {},
   "start_time": "2022-01-15T08:33:08.005721",
   "version": "2.3.3"
  }
 },
 "nbformat": 4,
 "nbformat_minor": 5
}
